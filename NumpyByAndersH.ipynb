{
 "cells": [
  {
   "cell_type": "markdown",
   "id": "17f07cc4",
   "metadata": {},
   "source": [
    "# Introduktion till Numpy för otåliga Matlabanvändare\n",
    "\n",
    "Den här handledningen är en kortfattad introduktion till Python med Numpy för den som kommer från Matlab.\n",
    "\n",
    "Det första som vi ska konstatera efter att ha installerat rasket med hjälp av Anaconda\n",
    "är att installationen skriver i __.zshrc__. Eftersom det skriver sist i filen så och\n",
    "ändrar prompten så får man editera filen och ändta tillbaks promten igen. Usch. \n",
    "Jag avskyr massa skit i promten.\n",
    "\n",
    "    PS1='> '"
   ]
  },
  {
   "cell_type": "markdown",
   "id": "1231bd08",
   "metadata": {},
   "source": [
    "### Uttryck\n",
    "\n",
    "Om man inte avslutar med semikolon så skriver Python ut resultatet som i Matlab, men inte om tilldelning till variabel sker. Notera att strängkonkatenering sker med operatorn __+__ och att man explicit måste konvertera nummer till sträng för utskrift. Urk."
   ]
  },
  {
   "cell_type": "code",
   "execution_count": 432,
   "id": "0173102e",
   "metadata": {
    "scrolled": true
   },
   "outputs": [
    {
     "name": "stdout",
     "output_type": "stream",
     "text": [
      "x has value 35.8225\n"
     ]
    }
   ],
   "source": [
    "x = 3 * 11.5 + 2.3 ** 2 / 4\n",
    "print(\"x has value \" + str(x))"
   ]
  },
  {
   "cell_type": "markdown",
   "id": "c33d5426",
   "metadata": {},
   "source": [
    "Python har kommandon för att lista variabler på diverse sätt. De är helt värdelösa för normalt bruk. Istället får man hoppas att man kör __IPython__, för då finns _magic commands_ som alltid börjar med ett procenttecken och inte har parenteser för anrop. Harreminje. Men vilken tur att det finns ett magiskt kommando __%who__. "
   ]
  },
  {
   "cell_type": "code",
   "execution_count": 433,
   "id": "25c6e2ed",
   "metadata": {},
   "outputs": [
    {
     "name": "stdout",
     "output_type": "stream",
     "text": [
      "A\t B\t D\t E\t S\t U\t V\t X\t Y\t \n",
      "a\t ax\t b\t d\t fig\t lst\t np\t plt\t rank\t \n",
      "ratio\t res\t scale\t v\t x\t x_left\t x_right\t y\t y_high\t \n",
      "y_low\t \n"
     ]
    }
   ],
   "source": [
    "%who"
   ]
  },
  {
   "cell_type": "markdown",
   "id": "4336a070",
   "metadata": {},
   "source": [
    "Python har __del__-kommandot för att radera variabler. Det har också ett unikt __None__-objekt. \n",
    "En variable försvinner alltså _INTE_ om man tilldelar variabeln det objektet. "
   ]
  },
  {
   "cell_type": "code",
   "execution_count": 434,
   "id": "b686077a",
   "metadata": {},
   "outputs": [
    {
     "name": "stdout",
     "output_type": "stream",
     "text": [
      "A\t B\t D\t E\t S\t U\t V\t X\t Y\t \n",
      "a\t ax\t b\t d\t fig\t lst\t np\t plt\t rank\t \n",
      "ratio\t res\t scale\t v\t x\t x_left\t x_right\t y\t y_high\t \n",
      "y_low\t \n"
     ]
    }
   ],
   "source": [
    "a, b, c, d = 1, 2, 3, 4\n",
    "b = None\n",
    "del c\n",
    "%who"
   ]
  },
  {
   "cell_type": "markdown",
   "id": "54760c2e",
   "metadata": {},
   "source": [
    "Hjälpfunktionen __help__ är mycket användbar, \n",
    "men den skriver ut så mycket att man hellre har den i ett terminalfönster än i Jupyter,\n",
    "så vi ger inget exempel här."
   ]
  },
  {
   "cell_type": "markdown",
   "id": "0875349d",
   "metadata": {},
   "source": [
    "### Numpy\n",
    "\n",
    "För __sin__ och __sqrt__ och liknande och matriser så laddar man in Numpy. Alla verkar döpa det till __np__."
   ]
  },
  {
   "cell_type": "code",
   "execution_count": 435,
   "id": "8435c0b6",
   "metadata": {},
   "outputs": [
    {
     "name": "stdout",
     "output_type": "stream",
     "text": [
      "0.7071067811865475\n"
     ]
    }
   ],
   "source": [
    "import numpy as np\n",
    "v = np.pi / 4\n",
    "print(np.sin(v))"
   ]
  },
  {
   "cell_type": "markdown",
   "id": "fa0c8e58",
   "metadata": {},
   "source": [
    "### Skapa matriser och vektorer\n",
    "\n",
    "Först ska vi konstatera att man _inte_ ska använda __np.matrix__. Här är ett citat från Stackoverflow.\n",
    "\n",
    "> Note that while you can use numpy.matrix (as of early 2021) where it will be treated\n",
    "like standard matrix multiplication, numpy.matrix is deprecated and may be removed in\n",
    "future releases.\n",
    "\n",
    "Så vi ska alltså använda __np.array__ istället. Inargument är en lista av listor. Man kan ge en sträng för mer Matlablik notation om man anstränger sig men det ska man nog undvika."
   ]
  },
  {
   "cell_type": "code",
   "execution_count": 436,
   "id": "31dc1e37",
   "metadata": {},
   "outputs": [
    {
     "data": {
      "text/plain": [
       "array([[ 3,  2, 12],\n",
       "       [ 7,  6,  5]])"
      ]
     },
     "execution_count": 436,
     "metadata": {},
     "output_type": "execute_result"
    }
   ],
   "source": [
    "x = np.array([[2, 0, 9],[7, 6, 2]])\n",
    "y = np.array([[1, 2, 3],[0, 0, 3]])\n",
    "x + y"
   ]
  },
  {
   "cell_type": "markdown",
   "id": "7eaaebc8",
   "metadata": {},
   "source": [
    "Enhetsmatriser och nollmatriser och annat godis kan användas för att bygga matriser. Metoden __np.array__ fattar\n",
    "inte listor av matriser. Det är dumt. \n",
    "Notera att dimensionen till __zeros__ och __ones__ anges med en tuple. Vi kan konstatera att Python kräver mycket mer trycksvärta än Matlab."
   ]
  },
  {
   "cell_type": "code",
   "execution_count": 437,
   "id": "448ebbf7",
   "metadata": {},
   "outputs": [
    {
     "data": {
      "text/plain": [
       "array([[1., 0., 0., 0., 0.],\n",
       "       [0., 1., 0., 0., 0.],\n",
       "       [1., 1., 1., 3., 5.],\n",
       "       [1., 1., 1., 2., 7.]])"
      ]
     },
     "execution_count": 437,
     "metadata": {},
     "output_type": "execute_result"
    }
   ],
   "source": [
    "np.concatenate([\n",
    "    np.concatenate([np.eye(2), np.zeros((2,3))], axis = 1),\n",
    "    np.concatenate([np.ones((2,3)), [[3, 5],[2, 7]]], axis = 1)\n",
    "], axis = 0)"
   ]
  },
  {
   "cell_type": "markdown",
   "id": "c884ecca",
   "metadata": {},
   "source": [
    "Till skillnad från __zeros__ ovan skall dimensionen till __randn__ _inte_\n",
    "anges som en tuple. Det är inte särskilt konsekvent."
   ]
  },
  {
   "cell_type": "code",
   "execution_count": 438,
   "id": "40da1601",
   "metadata": {},
   "outputs": [
    {
     "data": {
      "text/plain": [
       "array([[-1.12920354, -1.07539877,  1.06637787],\n",
       "       [ 1.17519489, -1.92360558, -1.16964403]])"
      ]
     },
     "execution_count": 438,
     "metadata": {},
     "output_type": "execute_result"
    }
   ],
   "source": [
    "np.random.randn(2, 3)"
   ]
  },
  {
   "cell_type": "markdown",
   "id": "ef6c4ddd",
   "metadata": {},
   "source": [
    "Matlabnotationen __1:2:9__ skrivs om så här. Nästan."
   ]
  },
  {
   "cell_type": "code",
   "execution_count": 439,
   "id": "091368b2",
   "metadata": {},
   "outputs": [
    {
     "data": {
      "text/plain": [
       "array([1, 3, 5, 7])"
      ]
     },
     "execution_count": 439,
     "metadata": {},
     "output_type": "execute_result"
    }
   ],
   "source": [
    "np.arange(1, 9, 2)"
   ]
  },
  {
   "cell_type": "markdown",
   "id": "6a36947d",
   "metadata": {},
   "source": [
    "Vi konstaterar två saker. För det första fick vi inte med nian på slutet. För det andra så är vektorn inte\n",
    "en radvektor eller kolonnvektor. Den har bara en dimension. Fast när man indexerar så\n",
    "liknar notationen Matlab. Men Pythons index börjar på 0. Nu förstår vi slutligen följande."
   ]
  },
  {
   "cell_type": "code",
   "execution_count": 462,
   "id": "a97d1ba8",
   "metadata": {},
   "outputs": [
    {
     "data": {
      "text/plain": [
       "array([48, 43, 99])"
      ]
     },
     "execution_count": 462,
     "metadata": {},
     "output_type": "execute_result"
    }
   ],
   "source": [
    "x = np.array([42, 48, 43, 99, 33])\n",
    "x[1:4]"
   ]
  },
  {
   "cell_type": "markdown",
   "id": "f35d8fd7",
   "metadata": {},
   "source": [
    "### Operationer på matriser\n",
    "\n",
    "De vanliga operationerna tolkas elementvis. Det finns metodnamn så __+__ tolkas som __np.add__ osv men det kan vi strunta i."
   ]
  },
  {
   "cell_type": "code",
   "execution_count": 441,
   "id": "19c12939",
   "metadata": {},
   "outputs": [
    {
     "name": "stdout",
     "output_type": "stream",
     "text": [
      "[[2 3]\n",
      " [1 4]]\n",
      "--------\n",
      "[[7 5]\n",
      " [9 8]]\n"
     ]
    }
   ],
   "source": [
    "A = np.array([[2,3],[1,4]])\n",
    "B = np.array([[7,5],[9,8]])\n",
    "print(A)\n",
    "print('--------')\n",
    "print(B)"
   ]
  },
  {
   "cell_type": "code",
   "execution_count": 442,
   "id": "3a1b2548",
   "metadata": {},
   "outputs": [
    {
     "name": "stdout",
     "output_type": "stream",
     "text": [
      "[[ 9  8]\n",
      " [10 12]]\n",
      "--------\n",
      "[[14 15]\n",
      " [ 9 32]]\n"
     ]
    }
   ],
   "source": [
    "print(A + B)\n",
    "print('--------')\n",
    "print(A * B)"
   ]
  },
  {
   "cell_type": "markdown",
   "id": "5550686f",
   "metadata": {},
   "source": [
    "Matrismultiplikation kommer i två varianter __dot__ och __matmul__. Vi citerar Pythons dokumentation\n",
    "\n",
    "> __matmul__ differs from __dot__ in two important ways.\n",
    "> * Multiplication by scalars is not allowed.\n",
    "> * Stacks of matrices are broadcast together as if the matrices were elements.\n",
    "\n",
    "I nyare Python så fungerar kanelbulle __@__ som __matmul__."
   ]
  },
  {
   "cell_type": "code",
   "execution_count": 443,
   "id": "89c4d17e",
   "metadata": {},
   "outputs": [
    {
     "data": {
      "text/plain": [
       "array([[41, 34],\n",
       "       [43, 37]])"
      ]
     },
     "execution_count": 443,
     "metadata": {},
     "output_type": "execute_result"
    }
   ],
   "source": [
    "A @ B"
   ]
  },
  {
   "cell_type": "code",
   "execution_count": 444,
   "id": "a6370e01",
   "metadata": {},
   "outputs": [
    {
     "data": {
      "text/plain": [
       "array([[19, 41],\n",
       "       [26, 59]])"
      ]
     },
     "execution_count": 444,
     "metadata": {},
     "output_type": "execute_result"
    }
   ],
   "source": [
    "B @ A"
   ]
  },
  {
   "cell_type": "code",
   "execution_count": 445,
   "id": "e68859ae",
   "metadata": {},
   "outputs": [
    {
     "data": {
      "text/plain": [
       "array([[29, 42],\n",
       "       [27, 41]])"
      ]
     },
     "execution_count": 445,
     "metadata": {},
     "output_type": "execute_result"
    }
   ],
   "source": [
    "A @ B.transpose()"
   ]
  },
  {
   "cell_type": "markdown",
   "id": "7a209856",
   "metadata": {},
   "source": [
    "### Operationer på vektorer\n",
    "\n",
    "Vektorer är _inte_ radvektorer eller kolonvektorer (om vi inte trixar)."
   ]
  },
  {
   "cell_type": "code",
   "execution_count": 446,
   "id": "f5b08b6e",
   "metadata": {},
   "outputs": [
    {
     "data": {
      "text/plain": [
       "array([14, 12])"
      ]
     },
     "execution_count": 446,
     "metadata": {},
     "output_type": "execute_result"
    }
   ],
   "source": [
    "x = np.array([4, 2])\n",
    "A @ x"
   ]
  },
  {
   "cell_type": "markdown",
   "id": "1be6b80a",
   "metadata": {},
   "source": [
    "Jaha, det tolkades som en kolonnvektor. Nu multiplicerar vi från vänster."
   ]
  },
  {
   "cell_type": "code",
   "execution_count": 447,
   "id": "c1407bce",
   "metadata": {},
   "outputs": [
    {
     "data": {
      "text/plain": [
       "array([10, 20])"
      ]
     },
     "execution_count": 447,
     "metadata": {},
     "output_type": "execute_result"
    }
   ],
   "source": [
    "x @ A"
   ]
  },
  {
   "cell_type": "markdown",
   "id": "1d663815",
   "metadata": {},
   "source": [
    "Nu tolkades det som en radvektor."
   ]
  },
  {
   "cell_type": "code",
   "execution_count": 448,
   "id": "a5f4065c",
   "metadata": {},
   "outputs": [
    {
     "data": {
      "text/plain": [
       "20"
      ]
     },
     "execution_count": 448,
     "metadata": {},
     "output_type": "execute_result"
    }
   ],
   "source": [
    "x @ x"
   ]
  },
  {
   "cell_type": "markdown",
   "id": "28f10000",
   "metadata": {},
   "source": [
    "Nu blev det inre produkt. Så kan det gå."
   ]
  },
  {
   "cell_type": "markdown",
   "id": "ed7e9110",
   "metadata": {},
   "source": [
    "### print\n",
    "\n",
    "Om man vill skriva ut en matris som man vill ha den, utan hakparenteser, komman och annan skit så får man googla på Stackoverflow och formattera själv."
   ]
  },
  {
   "cell_type": "code",
   "execution_count": 1,
   "id": "731b9685",
   "metadata": {},
   "outputs": [],
   "source": [
    "# Har inte lyckats hittils"
   ]
  },
  {
   "cell_type": "markdown",
   "id": "fc5773ca",
   "metadata": {},
   "source": [
    "### Lista som array"
   ]
  },
  {
   "cell_type": "markdown",
   "id": "7cd36b3d",
   "metadata": {},
   "source": [
    "Eftersom vi listar det vi upplever som märkligt och bisarrt när vi kommer från Matlab så ska vi se hur \n",
    "linalgoperatorerna reagerar när de får en lista i ställer för en array."
   ]
  },
  {
   "cell_type": "code",
   "execution_count": 449,
   "id": "75f85f03",
   "metadata": {},
   "outputs": [
    {
     "data": {
      "text/plain": [
       "(11565, 11565)"
      ]
     },
     "execution_count": 449,
     "metadata": {},
     "output_type": "execute_result"
    }
   ],
   "source": [
    "x = [42, 99]\n",
    "y = np.array(x)\n",
    "x @ y, y @ x"
   ]
  },
  {
   "cell_type": "markdown",
   "id": "a22c8879",
   "metadata": {},
   "source": [
    "Jaha, av någon märklig anledning gick det bra. Men __x @ x__ går inte, för då blir det exekveringsfel. Vi ska inte generera fel för då bryter Jupyter exekveringen om man kör _run all_. Men __matmul__ går bra trots att vi sa att __@__ var samma sak som __matmul__. "
   ]
  },
  {
   "cell_type": "code",
   "execution_count": 450,
   "id": "03a32f41",
   "metadata": {},
   "outputs": [
    {
     "data": {
      "text/plain": [
       "11565"
      ]
     },
     "execution_count": 450,
     "metadata": {},
     "output_type": "execute_result"
    }
   ],
   "source": [
    "np.matmul(x, x)"
   ]
  },
  {
   "cell_type": "markdown",
   "id": "eacf1aea",
   "metadata": {},
   "source": [
    "Jaså, det köpte den. Här börjar vi närma oss __Perl__ i obegripligt dåligt uppförande och avstår från att gissa vad som händer i nästa version av Python."
   ]
  },
  {
   "cell_type": "markdown",
   "id": "e457325a",
   "metadata": {},
   "source": [
    "### Linjära ekvationssystem\n",
    "\n",
    "Metoden __lstsq__ löser ekvationsystem. \n",
    "Funkar också om det är över- eller underbestämt. Det är ett hoopla om __rcond__, se dokumentationen.\n",
    "Returvärdet är en tuple med en massa information."
   ]
  },
  {
   "cell_type": "code",
   "execution_count": 451,
   "id": "561bbb29",
   "metadata": {},
   "outputs": [
    {
     "data": {
      "text/plain": [
       "(array([-0.19033322,  0.09872187]),\n",
       " array([8.10846021]),\n",
       " 2,\n",
       " array([2.99549003, 2.29238474]))"
      ]
     },
     "execution_count": 451,
     "metadata": {},
     "output_type": "execute_result"
    }
   ],
   "source": [
    "A = np.random.randn(9, 2)\n",
    "Y = np.random.randn(9)\n",
    "(X, res, rank, S) = np.linalg.lstsq(A, Y, rcond = -1)\n",
    "X, res, rank, S"
   ]
  },
  {
   "cell_type": "markdown",
   "id": "75f1bac3",
   "metadata": {},
   "source": [
    "### Principalkomponenter\n",
    "\n",
    "Antag att vi har en symmetrisk matris. "
   ]
  },
  {
   "cell_type": "code",
   "execution_count": 452,
   "id": "32f4a684",
   "metadata": {
    "scrolled": true
   },
   "outputs": [
    {
     "name": "stdout",
     "output_type": "stream",
     "text": [
      "[[ 1.00109252  0.53193525  1.80877694]\n",
      " [ 0.53193525  1.75987698 -0.13355508]\n",
      " [ 1.80877694 -0.13355508  5.90617472]]\n"
     ]
    }
   ],
   "source": [
    "X = np.random.randn(3, 3)\n",
    "X = np.dot(X, X.transpose())\n",
    "print(X)"
   ]
  },
  {
   "cell_type": "markdown",
   "id": "34271961",
   "metadata": {},
   "source": [
    "Såja, det är en fin symmetrisk matris. Vad har den för evenvärden måntro?"
   ]
  },
  {
   "cell_type": "code",
   "execution_count": 453,
   "id": "110640c6",
   "metadata": {
    "scrolled": true
   },
   "outputs": [
    {
     "name": "stdout",
     "output_type": "stream",
     "text": [
      "[6.50136053 1.95300304 0.21278064]\n",
      "------------------------------\n",
      "[[ 0.31311436  0.31417999  0.89624234]\n",
      " [ 0.00837758  0.94274523 -0.33340852]\n",
      " [ 0.94967848 -0.11190334 -0.292555  ]]\n"
     ]
    }
   ],
   "source": [
    "(U, E, V) = np.linalg.svd(X, hermitian = True)\n",
    "print(E)\n",
    "print('------------------------------')\n",
    "print(U)"
   ]
  },
  {
   "cell_type": "markdown",
   "id": "b868ddc1",
   "metadata": {},
   "source": [
    "Nu följer en koll att det blev rätt."
   ]
  },
  {
   "cell_type": "code",
   "execution_count": 463,
   "id": "fc714802",
   "metadata": {},
   "outputs": [
    {
     "data": {
      "text/plain": [
       "2.220446049250313e-16"
      ]
     },
     "execution_count": 463,
     "metadata": {},
     "output_type": "execute_result"
    }
   ],
   "source": [
    "np.max(X - U @ np.diag(E) @ V)"
   ]
  },
  {
   "cell_type": "markdown",
   "id": "02f04822",
   "metadata": {},
   "source": [
    "### Plotta\n",
    "\n",
    "Modulen __matplotlib__ är den som används flitigt."
   ]
  },
  {
   "cell_type": "code",
   "execution_count": 456,
   "id": "79f1cf65",
   "metadata": {},
   "outputs": [
    {
     "data": {
      "image/png": "[encoded data removed]",
      "text/plain": [
       "<Figure size 640x480 with 1 Axes>"
      ]
     },
     "metadata": {},
     "output_type": "display_data"
    }
   ],
   "source": [
    "import matplotlib.pyplot as plt\n",
    "x = np.arange(0, 7, 0.2)\n",
    "y = np.sin(x)\n",
    "plt.plot(x,y)\n",
    "plt.show()"
   ]
  },
  {
   "cell_type": "markdown",
   "id": "e347c44b",
   "metadata": {},
   "source": [
    "Nu ska vi se om vi kan göra den lite mindre på höjden. Det kanske ser snyggare ut på skärmen. Vi demonstrerar plot med punkter och grid samtidigt."
   ]
  },
  {
   "cell_type": "code",
   "execution_count": 459,
   "id": "b2fbf589",
   "metadata": {},
   "outputs": [
    {
     "data": {
      "image/png": "[encoded data removed]",
      "text/plain": [
       "<Figure size 640x480 with 1 Axes>"
      ]
     },
     "metadata": {},
     "output_type": "display_data"
    }
   ],
   "source": [
    "fig, ax = plt.subplots()\n",
    "ax.plot(x, y, \"og\")\n",
    "ratio = 1 / 3\n",
    "x_left, x_right = ax.get_xlim()\n",
    "y_low, y_high = ax.get_ylim()\n",
    "ax.set_aspect(abs((x_right-x_left)/(y_low-y_high))*ratio)\n",
    "ax.grid()\n",
    "plt.show()"
   ]
  }
 ],
 "metadata": {
  "kernelspec": {
   "display_name": "Python 3 (ipykernel)",
   "language": "python",
   "name": "python3"
  },
  "language_info": {
   "codemirror_mode": {
    "name": "ipython",
    "version": 3
   },
   "file_extension": ".py",
   "mimetype": "text/x-python",
   "name": "python",
   "nbconvert_exporter": "python",
   "pygments_lexer": "ipython3",
   "version": "3.11.4"
  }
 },
 "nbformat": 4,
 "nbformat_minor": 5
}
